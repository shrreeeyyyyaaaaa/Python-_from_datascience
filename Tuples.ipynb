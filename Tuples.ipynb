{
 "cells": [
  {
   "cell_type": "code",
   "execution_count": 1,
   "id": "f524de8f-74ce-4b04-aee5-259a35daf6aa",
   "metadata": {},
   "outputs": [
    {
     "data": {
      "text/plain": [
       "'\\n tuples are a built-in data type that allows you to store a collection of items. Tuples are similar to lists but have some important differences. \\n'"
      ]
     },
     "execution_count": 1,
     "metadata": {},
     "output_type": "execute_result"
    }
   ],
   "source": [
    "#TUPLES\n",
    "\"\"\"\n",
    " tuples are a built-in data type that allows you to store a collection of items. Tuples are similar to lists but have some important differences. \n",
    "\"\"\""
   ]
  },
  {
   "cell_type": "code",
   "execution_count": 2,
   "id": "430b3fee-4e13-4b03-85d4-08180af976c8",
   "metadata": {},
   "outputs": [
    {
     "data": {
      "text/plain": [
       "'\\nOrdered: Tuples maintain the order of elements, which means the items can be accessed by their position or index. The first item has an index of 0.\\n\\nImmutable: Once a tuple is created, its content cannot be changed. You cannot add, remove, or modify items in a tuple.\\n\\nHeterogeneous: Tuples can store items of different data types (e.g., integers, strings, objects, other tuples).\\n\\nSupport for Nested Structures: Tuples can contain other tuples, lists, or any other data type, allowing for complex data structures.\\n'"
      ]
     },
     "execution_count": 2,
     "metadata": {},
     "output_type": "execute_result"
    }
   ],
   "source": [
    "\"\"\"\n",
    "Ordered: Tuples maintain the order of elements, which means the items can be accessed by their position or index. The first item has an index of 0.\n",
    "\n",
    "Immutable: Once a tuple is created, its content cannot be changed. You cannot add, remove, or modify items in a tuple.\n",
    "\n",
    "Heterogeneous: Tuples can store items of different data types (e.g., integers, strings, objects, other tuples).\n",
    "\n",
    "Support for Nested Structures: Tuples can contain other tuples, lists, or any other data type, allowing for complex data structures.\n",
    "\"\"\""
   ]
  },
  {
   "cell_type": "code",
   "execution_count": 3,
   "id": "39e6bdd6-d23d-4e52-b984-ee28ab20d88b",
   "metadata": {},
   "outputs": [],
   "source": [
    "# Creating a tuple with parentheses\n",
    "my_tuple = (1, 2, 3)\n",
    "\n",
    "# Creating a tuple with mixed data types\n",
    "mixed_tuple = (1, 'hello', 3.14, True)\n",
    "\n",
    "# Creating a single-element tuple\n",
    "single_element_tuple = (42,)  # Note the trailing comma\n",
    "\n",
    "# Creating a tuple using the tuple() function\n",
    "another_tuple = tuple([4, 5, 6])  # Converts a list to a tuple\n"
   ]
  },
  {
   "cell_type": "code",
   "execution_count": 4,
   "id": "ad501160-c2bf-4607-9e7e-989831423ec3",
   "metadata": {},
   "outputs": [],
   "source": [
    "my_tuple = (10, 20, 30, 40)\n",
    "first_item = my_tuple[0]  # 10\n",
    "last_item = my_tuple[-1]   # 40 (negative indexing)\n"
   ]
  },
  {
   "cell_type": "code",
   "execution_count": 5,
   "id": "77eb8fbe-b809-4a0d-98ab-bc79b0f720d2",
   "metadata": {},
   "outputs": [],
   "source": [
    "#Concatenation: Combine two tuples using the + operator\n",
    "tuple1 = (1, 2)\n",
    "tuple2 = (3, 4)\n",
    "combined_tuple = tuple1 + tuple2  # (1, 2, 3, 4)\n"
   ]
  },
  {
   "cell_type": "code",
   "execution_count": 6,
   "id": "0e340673-9af2-4142-b97d-bce3eb613d5c",
   "metadata": {},
   "outputs": [],
   "source": [
    "#Repetition: Repeat a tuple using the * operator.\n",
    "repeated_tuple = (1, 2) * 3  # (1, 2, 1, 2, 1, 2)\n"
   ]
  },
  {
   "cell_type": "code",
   "execution_count": 7,
   "id": "7870f523-1cd0-4e46-b4e2-d1fb61d39370",
   "metadata": {},
   "outputs": [],
   "source": [
    "#Slicing: Access a portion of the tuple using slicing syntax.\n",
    "sliced_tuple = my_tuple[1:3]  # (20, 30)\n"
   ]
  },
  {
   "cell_type": "code",
   "execution_count": 8,
   "id": "549dbd42-2034-4488-97c9-a5d9dd7089b8",
   "metadata": {},
   "outputs": [],
   "source": [
    "#Checking Membership: Use the in operator to check if an element exists in the tuple.\n",
    "exists = 30 in my_tuple  # Returns True\n"
   ]
  },
  {
   "cell_type": "code",
   "execution_count": 9,
   "id": "181a37a0-f6ff-4886-acd5-016a8fe41ea6",
   "metadata": {},
   "outputs": [],
   "source": [
    "#Tuple Methods\n",
    "my_tuple = (1, 2, 3, 2)\n",
    "count_of_two = my_tuple.count(2)  # Returns 2\n"
   ]
  },
  {
   "cell_type": "code",
   "execution_count": 10,
   "id": "d570e84a-0508-457a-ad0b-a9cff47c7af7",
   "metadata": {},
   "outputs": [],
   "source": [
    "#index(item): Returns the index of the first occurrence of an item. Raises a ValueError if the item is not found.\n",
    "index_of_two = my_tuple.index(2)  # Returns 1 (the index of the first occurrence)\n"
   ]
  },
  {
   "cell_type": "code",
   "execution_count": 11,
   "id": "2d3e5cb2-c9cb-487f-8a72-aae66ba4dbb5",
   "metadata": {},
   "outputs": [],
   "source": [
    "#Unpacking Tuples\n",
    "my_tuple = (1, 2, 3)\n",
    "a, b, c = my_tuple  # a = 1, b = 2, c = 3\n"
   ]
  },
  {
   "cell_type": "code",
   "execution_count": 14,
   "id": "41210115-94f5-4dfa-8ad0-24012ba9b3a5",
   "metadata": {},
   "outputs": [
    {
     "name": "stdout",
     "output_type": "stream",
     "text": [
      "Student: Shreya, Age: 20, Average Grade: 91.67\n",
      "Student: Haley, Age: 22, Average Grade: 83.33\n",
      "Student: Manny, Age: 21, Average Grade: 97.67\n",
      "\n",
      "Students with an average grade above 90:\n",
      "Shreya\n",
      "Manny\n"
     ]
    }
   ],
   "source": [
    "# Creating tuples for student records\n",
    "student_1 = (\"Shreya\", 20, (88, 92, 95))  # Name, Age, Grades (as a tuple)\n",
    "student_2 = (\"Haley\", 22, (75, 85, 90))\n",
    "student_3 = (\"Manny\", 21, (100, 98, 95))\n",
    "\n",
    "# Storing students in a list\n",
    "students = [student_1, student_2, student_3]\n",
    "\n",
    "# Function to calculate the average grade\n",
    "def calculate_average(grades):\n",
    "    return sum(grades) / len(grades)\n",
    "\n",
    "# Accessing and processing student data\n",
    "for student in students:\n",
    "    name, age, grades = student  # Unpacking the tuple\n",
    "    average_grade = calculate_average(grades)\n",
    "    print(f\"Student: {name}, Age: {age}, Average Grade: {average_grade:.2f}\")\n",
    "\n",
    "# Using tuples to find out students with grades above a threshold\n",
    "threshold = 90\n",
    "above_threshold = [student for student in students if calculate_average(student[2]) > threshold]\n",
    "\n",
    "print(\"\\nStudents with an average grade above 90:\")\n",
    "for student in above_threshold:\n",
    "    print(student[0])  # Print only the names of students above the threshold\n"
   ]
  },
  {
   "cell_type": "code",
   "execution_count": null,
   "id": "8c3793a8-4612-4ffc-8f7c-15dafc384bec",
   "metadata": {},
   "outputs": [],
   "source": []
  }
 ],
 "metadata": {
  "kernelspec": {
   "display_name": "Python 3 (ipykernel)",
   "language": "python",
   "name": "python3"
  },
  "language_info": {
   "codemirror_mode": {
    "name": "ipython",
    "version": 3
   },
   "file_extension": ".py",
   "mimetype": "text/x-python",
   "name": "python",
   "nbconvert_exporter": "python",
   "pygments_lexer": "ipython3",
   "version": "3.12.7"
  }
 },
 "nbformat": 4,
 "nbformat_minor": 5
}
