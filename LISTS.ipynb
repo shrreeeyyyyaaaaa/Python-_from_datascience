{
 "cells": [
  {
   "cell_type": "code",
   "execution_count": 3,
   "id": "b8a845c0-05f9-45d4-ac51-e6b988310497",
   "metadata": {},
   "outputs": [
    {
     "data": {
      "text/plain": [
       "'\\n   LISTS\\n   SETS \\n   TUPLES\\n   DICTIONARIES\\n'"
      ]
     },
     "execution_count": 3,
     "metadata": {},
     "output_type": "execute_result"
    }
   ],
   "source": [
    "###DATA STRUCTURES\n",
    "\"\"\"\n",
    "   LISTS\n",
    "   SETS \n",
    "   TUPLES\n",
    "   DICTIONARIES\n",
    "\"\"\""
   ]
  },
  {
   "cell_type": "code",
   "execution_count": 4,
   "id": "35a3fc26-60d4-45c2-a2b6-d7d8d44dd7bb",
   "metadata": {},
   "outputs": [
    {
     "data": {
      "text/plain": [
       "'In Python, lists are one of the most commonly used data structures, \\n   allowing you to store a collection of items in a single variable. Lists are ordered, mutable (which means they can be changed), \\n   and can hold items of different data types, including other lists.\\n'"
      ]
     },
     "execution_count": 4,
     "metadata": {},
     "output_type": "execute_result"
    }
   ],
   "source": [
    "##LISTS\n",
    "\"\"\"In Python, lists are one of the most commonly used data structures, \n",
    "   allowing you to store a collection of items in a single variable. Lists are ordered, mutable (which means they can be changed), \n",
    "   and can hold items of different data types, including other lists.\n",
    "\"\"\""
   ]
  },
  {
   "cell_type": "code",
   "execution_count": 41,
   "id": "93401043-6845-4355-a843-3f64aa6318f5",
   "metadata": {},
   "outputs": [],
   "source": [
    "my_list = [1, 2, 3, 'a', 'b', [4, 5]] ##WE CAN STORE STRING ,INT AND ARRAY\n"
   ]
  },
  {
   "cell_type": "code",
   "execution_count": 42,
   "id": "198ca91f-d6f3-4a54-b3fa-0f0123a02d47",
   "metadata": {},
   "outputs": [],
   "source": [
    "#Accessing Elements\n",
    "first_element = my_list[0]  # Accesses the first element (1)\n",
    "nested_element = my_list[5][0]  # Accesses the first element of the nested list ([4, 5])\n"
   ]
  },
  {
   "cell_type": "code",
   "execution_count": 43,
   "id": "795325d9-d8d3-4ec6-b975-6d5e03424309",
   "metadata": {},
   "outputs": [],
   "source": [
    "#Modifying Elements\n",
    "my_list[1] = 10  # Changes the second element from 2 to 10\n"
   ]
  },
  {
   "cell_type": "code",
   "execution_count": 44,
   "id": "34735bbc-8bed-4a15-9109-85a783869b55",
   "metadata": {},
   "outputs": [],
   "source": [
    "#Adding Elements\n",
    "my_list.append(6)  # Adds 6 to the end of the list\n"
   ]
  },
  {
   "cell_type": "code",
   "execution_count": 45,
   "id": "3c1e3324-f98b-4f5a-8505-0094bf50d8af",
   "metadata": {},
   "outputs": [
    {
     "data": {
      "text/plain": [
       "[1, 10, 3, 'b', [4, 5], 6]"
      ]
     },
     "execution_count": 45,
     "metadata": {},
     "output_type": "execute_result"
    }
   ],
   "source": [
    "#Removing Elements\n",
    "my_list.remove('a')  # Removes the first occurrence of 'a'\n",
    "my_list"
   ]
  },
  {
   "cell_type": "code",
   "execution_count": 46,
   "id": "b8db9d47-cbdd-4874-a50f-b7615d71cdd6",
   "metadata": {},
   "outputs": [
    {
     "data": {
      "text/plain": [
       "[10, 3, 'b']"
      ]
     },
     "execution_count": 46,
     "metadata": {},
     "output_type": "execute_result"
    }
   ],
   "source": [
    "#sub_list = my_list[1:4]  # Gets a slice of the list from index 1 to 3\n",
    "sub_list = my_list[1:4]  # Gets a slice of the list from index 1 to 3\n",
    "sub_list"
   ]
  },
  {
   "cell_type": "code",
   "execution_count": 47,
   "id": "3ca9b7bb-907d-4200-92dc-614c12c3c80f",
   "metadata": {},
   "outputs": [
    {
     "data": {
      "text/plain": [
       "['Hello', 'World', 'This', 'is', 'Python']"
      ]
     },
     "execution_count": 47,
     "metadata": {},
     "output_type": "execute_result"
    }
   ],
   "source": [
    "text = \"Hello World This is Python\"\n",
    "# Split the string into a list of words\n",
    "words = text.split()  # Result: ['Hello', 'World', 'This', 'is', 'Python']\n",
    "words"
   ]
  },
  {
   "cell_type": "code",
   "execution_count": 48,
   "id": "4809f863-a207-475b-874b-89710d7f4dee",
   "metadata": {},
   "outputs": [
    {
     "data": {
      "text/plain": [
       "[1, 10, 3, 'b', [4, 5], 6, 5, 6]"
      ]
     },
     "execution_count": 48,
     "metadata": {},
     "output_type": "execute_result"
    }
   ],
   "source": [
    "my_list.extend([5, 6]) # Extends the list by appending elements from an iterable (like another list).\n",
    "my_list"
   ]
  },
  {
   "cell_type": "code",
   "execution_count": 49,
   "id": "c5045a44-5e5b-41d9-a237-55bc550f13c5",
   "metadata": {},
   "outputs": [
    {
     "data": {
      "text/plain": [
       "[1, 'Hello', 10, 3, 'b', [4, 5], 6, 5, 6]"
      ]
     },
     "execution_count": 49,
     "metadata": {},
     "output_type": "execute_result"
    }
   ],
   "source": [
    "#Inserts an item at a specified index.\n",
    "my_list.insert(1, 'Hello')\n",
    "my_list"
   ]
  },
  {
   "cell_type": "code",
   "execution_count": 50,
   "id": "7c6a0a10-eb79-4066-98bf-624be31918ff",
   "metadata": {},
   "outputs": [
    {
     "data": {
      "text/plain": [
       "['Hello', 10, 3, 'b', [4, 5], 6, 5, 6]"
      ]
     },
     "execution_count": 50,
     "metadata": {},
     "output_type": "execute_result"
    }
   ],
   "source": [
    "my_list.remove(1) #Removes the first occurrence of an item from the list.\n",
    "my_list"
   ]
  },
  {
   "cell_type": "code",
   "execution_count": 51,
   "id": "76796710-8ccd-4574-9790-ce47ba5132e0",
   "metadata": {},
   "outputs": [
    {
     "data": {
      "text/plain": [
       "6"
      ]
     },
     "execution_count": 51,
     "metadata": {},
     "output_type": "execute_result"
    }
   ],
   "source": [
    "last_item = my_list.pop()  # removes the last item\n",
    "last_item"
   ]
  },
  {
   "cell_type": "code",
   "execution_count": 52,
   "id": "2d00bbb1-fbd6-4db8-afb6-858896052392",
   "metadata": {},
   "outputs": [
    {
     "data": {
      "text/plain": [
       "[]"
      ]
     },
     "execution_count": 52,
     "metadata": {},
     "output_type": "execute_result"
    }
   ],
   "source": [
    "my_list.clear() #Remove all items in lists\n",
    "my_list"
   ]
  },
  {
   "cell_type": "code",
   "execution_count": 53,
   "id": "a975fff2-82cc-4804-8fee-cc75441ec47c",
   "metadata": {},
   "outputs": [
    {
     "data": {
      "text/plain": [
       "[1, 2, 3, 4, 5, 'a', 'v']"
      ]
     },
     "execution_count": 53,
     "metadata": {},
     "output_type": "execute_result"
    }
   ],
   "source": [
    "mlist=[1,2,3,4,5,'a','v']\n",
    "index_of_item = mlist.index(3)\n",
    "mlist"
   ]
  },
  {
   "cell_type": "code",
   "execution_count": 54,
   "id": "a8c5e436-0e9b-4d1d-ae0b-8644ebd57286",
   "metadata": {},
   "outputs": [
    {
     "data": {
      "text/plain": [
       "1"
      ]
     },
     "execution_count": 54,
     "metadata": {},
     "output_type": "execute_result"
    }
   ],
   "source": [
    "count_of_item = mlist.count(3) #Returns the number of times an item appears in the list.\n",
    "count_of_item"
   ]
  },
  {
   "cell_type": "code",
   "execution_count": 55,
   "id": "a2ee4dea-17c7-42f7-91df-0b6d0268e599",
   "metadata": {},
   "outputs": [
    {
     "data": {
      "text/plain": [
       "[0, 3, 4, 5, 6, 7, 8, 9]"
      ]
     },
     "execution_count": 55,
     "metadata": {},
     "output_type": "execute_result"
    }
   ],
   "source": [
    "ylist=[8,0,5,7,9,6,3,4]\n",
    "ylist.sort()  # Sorts in ascending order\n",
    "ylist"
   ]
  },
  {
   "cell_type": "code",
   "execution_count": 56,
   "id": "94a81eca-4e76-42d5-8c94-bb1e04f5e6c9",
   "metadata": {},
   "outputs": [
    {
     "data": {
      "text/plain": [
       "[9, 8, 7, 6, 5, 4, 3, 0]"
      ]
     },
     "execution_count": 56,
     "metadata": {},
     "output_type": "execute_result"
    }
   ],
   "source": [
    "ylist.reverse()\n",
    "ylist"
   ]
  },
  {
   "cell_type": "code",
   "execution_count": 57,
   "id": "2258d63b-a976-4ecc-adc9-5c817c7653e6",
   "metadata": {},
   "outputs": [
    {
     "data": {
      "text/plain": [
       "[1, 2, 3, 4, 5, 'a', 'v']"
      ]
     },
     "execution_count": 57,
     "metadata": {},
     "output_type": "execute_result"
    }
   ],
   "source": [
    "new_list = mlist.copy()\n",
    "new_list"
   ]
  },
  {
   "cell_type": "code",
   "execution_count": null,
   "id": "dc493f24-bce5-44ce-bbc6-e0bb7b3634a9",
   "metadata": {},
   "outputs": [],
   "source": []
  },
  {
   "cell_type": "code",
   "execution_count": null,
   "id": "5683164d-68e0-4fe9-ae85-985498f28ecd",
   "metadata": {},
   "outputs": [],
   "source": []
  }
 ],
 "metadata": {
  "kernelspec": {
   "display_name": "Python 3 (ipykernel)",
   "language": "python",
   "name": "python3"
  },
  "language_info": {
   "codemirror_mode": {
    "name": "ipython",
    "version": 3
   },
   "file_extension": ".py",
   "mimetype": "text/x-python",
   "name": "python",
   "nbconvert_exporter": "python",
   "pygments_lexer": "ipython3",
   "version": "3.12.7"
  }
 },
 "nbformat": 4,
 "nbformat_minor": 5
}
