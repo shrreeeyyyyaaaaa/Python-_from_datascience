{
 "cells": [
  {
   "cell_type": "code",
   "execution_count": 2,
   "id": "40382c1f-b0dc-4c7a-a726-8aa9dd7bac3a",
   "metadata": {},
   "outputs": [
    {
     "data": {
      "text/plain": [
       "'\\nSets are a built-in data type that represent an unordered collection of unique items. \\nSets are very useful for operations that involve membership tests or when you want to enforce uniqueness in a collection.\\n'"
      ]
     },
     "execution_count": 2,
     "metadata": {},
     "output_type": "execute_result"
    }
   ],
   "source": [
    "###SETS \n",
    "\"\"\"\n",
    "Sets are a built-in data type that represent an unordered collection of unique items. \n",
    "Sets are very useful for operations that involve membership tests or when you want to enforce uniqueness in a collection.\n",
    "\"\"\""
   ]
  },
  {
   "cell_type": "code",
   "execution_count": 3,
   "id": "cf72de6e-262d-4a8c-aea3-c0f0e4bf0f3d",
   "metadata": {},
   "outputs": [],
   "source": [
    "# Creating a set with curly braces\n",
    "my_set = {1, 2, 3}\n",
    " \n",
    "# Creating a set with the set() function\n",
    "my_set = set([1, 2, 3, 3, 4])  # Duplicate '3' will be discarded\n"
   ]
  },
  {
   "cell_type": "code",
   "execution_count": 4,
   "id": "bae8d5e6-6a6f-4e3f-9019-3be6698bd930",
   "metadata": {},
   "outputs": [],
   "source": [
    "#Adding Elements\n",
    "my_set.add(4)  # my_set is now {1, 2, 3, 4}\n"
   ]
  },
  {
   "cell_type": "code",
   "execution_count": 5,
   "id": "d19d0446-e6b9-4510-938f-64ee550ad93c",
   "metadata": {},
   "outputs": [],
   "source": [
    "#Updating with Another Set or Iterable\n",
    "my_set.update([5, 6])  # my_set is now {1, 2, 3, 4, 5, 6}\n"
   ]
  },
  {
   "cell_type": "code",
   "execution_count": 6,
   "id": "7125a51e-6fda-4cc6-b1ca-f2d0601a8d69",
   "metadata": {},
   "outputs": [],
   "source": [
    "#Removing Elements\n",
    "my_set.remove(4)  # my_set is now {1, 2, 3, 5, 6}\n"
   ]
  },
  {
   "cell_type": "code",
   "execution_count": 7,
   "id": "a65a1e89-bde0-4377-b9c8-d34d79060002",
   "metadata": {},
   "outputs": [],
   "source": [
    "#Pop an Element\n",
    "removed_element = my_set.pop()  # Removes a random element\n"
   ]
  },
  {
   "cell_type": "code",
   "execution_count": 8,
   "id": "22e64a60-53f3-4c9c-ae6e-d85f0aa3a679",
   "metadata": {},
   "outputs": [],
   "source": [
    "#Set Operations\n",
    "set1 = {1, 2, 3}\n",
    "set2 = {3, 4, 5}\n",
    "union_set = set1 | set2  # or set1.union(set2)\n"
   ]
  },
  {
   "cell_type": "code",
   "execution_count": 10,
   "id": "29d88203-8cef-4164-aae9-96be8cbe5505",
   "metadata": {},
   "outputs": [
    {
     "data": {
      "text/plain": [
       "{3}"
      ]
     },
     "execution_count": 10,
     "metadata": {},
     "output_type": "execute_result"
    }
   ],
   "source": [
    "#Intersection: Finds common elements between sets.\n",
    "intersection_set = set1 & set2  # or set1.intersection(set2)\n",
    "intersection_set"
   ]
  },
  {
   "cell_type": "code",
   "execution_count": 11,
   "id": "aa847d3f-9bf7-40c0-94c0-016029f45c23",
   "metadata": {},
   "outputs": [],
   "source": [
    "#Difference: Finds elements in the first set that are not in the second.\n",
    "difference_set = set1 - set2  # or set1.difference(set2)\n"
   ]
  },
  {
   "cell_type": "code",
   "execution_count": 12,
   "id": "ed43ee8f-de59-4e91-98f6-39fc2a1e7502",
   "metadata": {},
   "outputs": [
    {
     "data": {
      "text/plain": [
       "{1, 2, 4, 5}"
      ]
     },
     "execution_count": 12,
     "metadata": {},
     "output_type": "execute_result"
    }
   ],
   "source": [
    "#Symmetric Difference: Finds elements in either set but not in both.\n",
    "symmetric_difference_set = set1 ^ set2  # or set1.symmetric_difference(set2)\n",
    "symmetric_difference_set"
   ]
  },
  {
   "cell_type": "code",
   "execution_count": null,
   "id": "598c057a-655d-4701-a9c6-0ace11437de8",
   "metadata": {},
   "outputs": [],
   "source": []
  }
 ],
 "metadata": {
  "kernelspec": {
   "display_name": "Python 3 (ipykernel)",
   "language": "python",
   "name": "python3"
  },
  "language_info": {
   "codemirror_mode": {
    "name": "ipython",
    "version": 3
   },
   "file_extension": ".py",
   "mimetype": "text/x-python",
   "name": "python",
   "nbconvert_exporter": "python",
   "pygments_lexer": "ipython3",
   "version": "3.12.7"
  }
 },
 "nbformat": 4,
 "nbformat_minor": 5
}
