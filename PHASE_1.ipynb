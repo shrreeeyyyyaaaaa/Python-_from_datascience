{
 "cells": [
  {
   "cell_type": "code",
   "execution_count": 50,
   "id": "9745d5c1-4696-4112-8cb2-95e1dd129d44",
   "metadata": {},
   "outputs": [],
   "source": [
    "###PYTHON "
   ]
  },
  {
   "cell_type": "code",
   "execution_count": 51,
   "id": "2bf7a5ce-7af4-40e8-9633-be950ef0bb99",
   "metadata": {},
   "outputs": [
    {
     "name": "stdout",
     "output_type": "stream",
     "text": [
      "\n",
      "Hello, world!\n"
     ]
    }
   ],
   "source": [
    "#Starting with print statement \n",
    "print() #function\n",
    "# This is a simple print statement\n",
    "print(\"Hello, world!\")\n"
   ]
  },
  {
   "cell_type": "code",
   "execution_count": 52,
   "id": "7c48f424-6dd1-40f0-81f7-71fc9eb92471",
   "metadata": {},
   "outputs": [],
   "source": [
    "# This is a single-line comment\n"
   ]
  },
  {
   "cell_type": "code",
   "execution_count": 53,
   "id": "ebe06d80-9955-4997-8411-7fec5fd1eb7b",
   "metadata": {},
   "outputs": [
    {
     "data": {
      "text/plain": [
       "'\\n   Addition (+)\\n   Subtraction (-)\\n   Multiplication (*)\\n   Division (/)\\n   Floor Division (//) - Returns the largest integer less than or equal to the division result.\\n   Modulus (%) - Returns the remainder of the division.\\n   Exponentiation (**) - Raises a number to the power of another.\\n'"
      ]
     },
     "execution_count": 53,
     "metadata": {},
     "output_type": "execute_result"
    }
   ],
   "source": [
    "#Basic Arithmetic Operations\n",
    "\"\"\"\n",
    "   Addition (+)\n",
    "   Subtraction (-)\n",
    "   Multiplication (*)\n",
    "   Division (/)\n",
    "   Floor Division (//) - Returns the largest integer less than or equal to the division result.\n",
    "   Modulus (%) - Returns the remainder of the division.\n",
    "   Exponentiation (**) - Raises a number to the power of another.\n",
    "\"\"\""
   ]
  },
  {
   "cell_type": "code",
   "execution_count": 54,
   "id": "85170398-5633-4cd8-bc14-66f7fc93723f",
   "metadata": {},
   "outputs": [
    {
     "name": "stdout",
     "output_type": "stream",
     "text": [
      "9\n",
      "1\n",
      "20\n",
      "3.0\n",
      "4\n",
      "0\n",
      "4\n"
     ]
    }
   ],
   "source": [
    "#basic example and usage \n",
    "print(4+5)   # Addition (+)\n",
    "print(4-3)   # Subtraction (-)\n",
    "print(4*5)   # Multiplication (*)\n",
    "print(6/2)   # Division (/)\n",
    "print(9//2)  # Floor Division (//)\n",
    "print(8%2)   # Modulus (%)\n",
    "print(2**2)  # Exponentiation (**)"
   ]
  },
  {
   "cell_type": "code",
   "execution_count": 56,
   "id": "8802d119-d83a-49fa-8781-a6c3b9d57591",
   "metadata": {},
   "outputs": [
    {
     "name": "stdin",
     "output_type": "stream",
     "text": [
      "Enter your name:  ohio\n"
     ]
    },
    {
     "name": "stdout",
     "output_type": "stream",
     "text": [
      "Hello, ohio!\n"
     ]
    }
   ],
   "source": [
    "#input()\n",
    "name = input(\"Enter your name: \")\n",
    "print(\"Hello, \" + name + \"!\")\n"
   ]
  },
  {
   "cell_type": "code",
   "execution_count": 17,
   "id": "2cb16598-fb3f-42fe-9e3d-5d40329bb742",
   "metadata": {},
   "outputs": [
    {
     "name": "stdin",
     "output_type": "stream",
     "text": [
      "Enter your age:  18\n"
     ]
    },
    {
     "name": "stdout",
     "output_type": "stream",
     "text": [
      "You are 18 years old.\n"
     ]
    }
   ],
   "source": [
    "# with numeric\n",
    "age = input(\"Enter your age: \")\n",
    "age = int(age)  # Convert the input string to an integer\n",
    "print(\"You are \" + str(age) + \" years old.\")\n"
   ]
  },
  {
   "cell_type": "code",
   "execution_count": 19,
   "id": "b9f5e469-2abb-4670-8423-0db74547fbd5",
   "metadata": {},
   "outputs": [
    {
     "name": "stdin",
     "output_type": "stream",
     "text": [
      "Enter two numbers separated by space:  2 3\n"
     ]
    },
    {
     "name": "stdout",
     "output_type": "stream",
     "text": [
      "Sum: 5\n"
     ]
    }
   ],
   "source": [
    "#Multuple inputs\n",
    "numbers = input(\"Enter two numbers separated by space: \")\n",
    "num1, num2 = map(int, numbers.split())  # Use map to convert to integers\n",
    "print(\"Sum:\", num1 + num2)\n"
   ]
  },
  {
   "cell_type": "code",
   "execution_count": null,
   "id": "05115df3-4fcf-4e28-a6ce-a4ddcfed2972",
   "metadata": {},
   "outputs": [],
   "source": [
    "##VARIBLES AND TYPES \n",
    "\"\"\"\n",
    "Variables are containers for storing data values. In Python, variables are created when you assign a value to them. They can hold different types of data, and their types can change during the program execution.\"\"\"\n",
    "\n"
   ]
  },
  {
   "cell_type": "code",
   "execution_count": 21,
   "id": "ef625424-abdd-4ee7-ba0d-e34b6609bbf6",
   "metadata": {},
   "outputs": [
    {
     "name": "stdout",
     "output_type": "stream",
     "text": [
      "Name: Alice\n",
      "Age: 30\n",
      "Height: 5.5\n",
      "Is Student: True\n"
     ]
    }
   ],
   "source": [
    "# Assigning variables\n",
    "name = \"Alice\"\n",
    "age = 30\n",
    "height = 5.5\n",
    "is_student = True\n",
    "\n",
    "print(\"Name:\", name)\n",
    "print(\"Age:\", age)\n",
    "print(\"Height:\", height)\n",
    "print(\"Is Student:\", is_student)\n",
    "\n",
    "\n",
    "# Examples of numeric types\n",
    "integer_var = 10          # Integer\n",
    "float_var = 3.14         # Float\n",
    "complex_var = 2 + 3j     # Complex number\n",
    "\n"
   ]
  },
  {
   "cell_type": "code",
   "execution_count": 9,
   "id": "df0ef3a2-34f0-4e9b-9044-223db5a24895",
   "metadata": {},
   "outputs": [],
   "source": [
    "##VARIBLES AND TYPES \n",
    "# Create a variable half\n",
    "half=0.5 #float\n",
    "full= 5 #int\n",
    "\n",
    "# Create a variable intro\n",
    "intro=\"Hello! How are you?\" #strings\n",
    "\n",
    "# Create a variable is_good\n",
    "is_good=True #boolean\n"
   ]
  },
  {
   "cell_type": "code",
   "execution_count": null,
   "id": "08b0419a-b444-41d3-969d-37499bef02be",
   "metadata": {},
   "outputs": [],
   "source": [
    "\"\"\"Int (int): Represents whole numbers, which can be positive, negative, or zero. They do not have any decimal points.\n",
    "\n",
    "Examples: -5, 0, 42, 1000\n",
    "Float (float): Represents real numbers that include a fractional part. They can represent numbers with decimal points.\n",
    "\n",
    "Examples: 3.14, -0.001, 2.0, 42.56\"\"\""
   ]
  },
  {
   "cell_type": "code",
   "execution_count": 8,
   "id": "f80fb171-fdc2-4304-8b49-0efdb560d05e",
   "metadata": {},
   "outputs": [
    {
     "name": "stdout",
     "output_type": "stream",
     "text": [
      "40\n"
     ]
    }
   ],
   "source": [
    "# Create the variables monthly_savings and num_months\n",
    "monthly_savings=10\n",
    "num_months=4\n",
    "# Multiply monthly_savings and num_months\n",
    "new_savings = monthly_savings*num_months\n",
    "\n",
    "# Print new_savings\n",
    "print(new_savings)"
   ]
  },
  {
   "cell_type": "code",
   "execution_count": 10,
   "id": "3fe01f26-245c-4d5c-a639-2ffd91157d5b",
   "metadata": {},
   "outputs": [
    {
     "name": "stdout",
     "output_type": "stream",
     "text": [
      "140\n",
      "<class 'int'>\n"
     ]
    }
   ],
   "source": [
    "savings = 100\n",
    "new_savings = 40\n",
    "\n",
    "# Calculate total_savings using savings and new_savings\n",
    "total_savings=savings+new_savings\n",
    "print(total_savings)\n",
    "\n",
    "# Print the type of total_savings\n",
    "print(type(total_savings))"
   ]
  },
  {
   "cell_type": "code",
   "execution_count": 11,
   "id": "a807a27c-cfef-4183-a356-382cca98a679",
   "metadata": {},
   "outputs": [
    {
     "name": "stdout",
     "output_type": "stream",
     "text": [
      "Hello! How are you?Hello! How are you?\n"
     ]
    }
   ],
   "source": [
    "intro = \"Hello! How are you?\"\n",
    "\n",
    "# Assign sum of intro and intro to doubleintro\n",
    "doubleintro=intro+intro\n",
    "\n",
    "# Print out doubleintro\n",
    "print(doubleintro)"
   ]
  },
  {
   "cell_type": "code",
   "execution_count": 22,
   "id": "01e47474-b9d6-4752-b0e2-16e57793ccf8",
   "metadata": {},
   "outputs": [
    {
     "name": "stdout",
     "output_type": "stream",
     "text": [
      "<class 'str'>\n"
     ]
    }
   ],
   "source": [
    "#TO CHECK TYPE OF VARIBLES \n",
    "print(type(doubleintro))"
   ]
  },
  {
   "cell_type": "code",
   "execution_count": 25,
   "id": "ca4ab257-43b1-49f6-9570-a11a13ce0d1d",
   "metadata": {},
   "outputs": [],
   "source": [
    "###Control Structures"
   ]
  },
  {
   "cell_type": "code",
   "execution_count": 26,
   "id": "0fdca10d-3f6f-4f6c-bf3b-8436ee31667a",
   "metadata": {},
   "outputs": [
    {
     "data": {
      "text/plain": [
       "'\\nConditional Statements\\n   1)If Statement\\n   2)Elif Statement\\n   3)Else Statement \\n'"
      ]
     },
     "execution_count": 26,
     "metadata": {},
     "output_type": "execute_result"
    }
   ],
   "source": [
    "\"\"\"\n",
    "Conditional Statements\n",
    "   1)If Statement\n",
    "   2)Elif Statement\n",
    "   3)Else Statement \n",
    "\"\"\"\n"
   ]
  },
  {
   "cell_type": "code",
   "execution_count": 27,
   "id": "ed16ca54-776a-43b0-a969-eb51eb172e2b",
   "metadata": {},
   "outputs": [
    {
     "name": "stdout",
     "output_type": "stream",
     "text": [
      "It's warm outside.\n"
     ]
    }
   ],
   "source": [
    "temperature = 30\n",
    "if temperature > 25:\n",
    "    print(\"It's warm outside.\") # if-statement\n"
   ]
  },
  {
   "cell_type": "code",
   "execution_count": 28,
   "id": "6ac1d789-1fb4-4dc8-9540-e95617206414",
   "metadata": {},
   "outputs": [],
   "source": [
    "temperature = 15\n",
    "if temperature > 25:\n",
    "    print(\"It's warm outside.\")\n",
    "elif temperature < 15:\n",
    "    print(\"It's cold outside.\") #if-else-statement\n"
   ]
  },
  {
   "cell_type": "code",
   "execution_count": 29,
   "id": "63b1da3e-aa93-4c3b-8e66-9289a3546916",
   "metadata": {},
   "outputs": [
    {
     "name": "stdout",
     "output_type": "stream",
     "text": [
      "The temperature is moderate.\n"
     ]
    }
   ],
   "source": [
    "temperature = 20\n",
    "if temperature > 25:\n",
    "    print(\"It's warm outside.\")\n",
    "elif temperature < 15:\n",
    "    print(\"It's cold outside.\")\n",
    "else:\n",
    "    print(\"The temperature is moderate.\") #else statement"
   ]
  },
  {
   "cell_type": "code",
   "execution_count": 32,
   "id": "208c5b58-36ed-4b35-9f00-8284c123ebaf",
   "metadata": {},
   "outputs": [
    {
     "name": "stdin",
     "output_type": "stream",
     "text": [
      "enter your age:  17\n"
     ]
    },
    {
     "name": "stdout",
     "output_type": "stream",
     "text": [
      "minor\n"
     ]
    }
   ],
   "source": [
    "age=int(input(\"enter your age: \")) # to convert age into int we use int(input())\n",
    "if age > 18:\n",
    "    print(\"adult\")\n",
    "else :\n",
    "    print(\"minor\")"
   ]
  },
  {
   "cell_type": "code",
   "execution_count": 33,
   "id": "47a63f86-ab88-4251-9687-8ab2d235744d",
   "metadata": {},
   "outputs": [
    {
     "data": {
      "text/plain": [
       "' 1) For Loop\\n    The for loop is used to iterate over a sequence (like a list, tuple, or string), executing the block of code for each item in the sequence.\\n    Use a for loop when iterating through a fixed sequence or a known number of iterations.\\n    2) While Loop \\n    The while loop continues execution as long as a specified condition is True. Be cautious with while loops to avoid infinite loops\\n    Use a while loop when the number of iterations is determined by a condition that may change dynamically during execution\\n    '"
      ]
     },
     "execution_count": 33,
     "metadata": {},
     "output_type": "execute_result"
    }
   ],
   "source": [
    "##Loops\n",
    "\"\"\" 1) For Loop\n",
    "    The for loop is used to iterate over a sequence (like a list, tuple, or string), executing the block of code for each item in the sequence.\n",
    "    Use a for loop when iterating through a fixed sequence or a known number of iterations.\n",
    "    2) While Loop \n",
    "    The while loop continues execution as long as a specified condition is True. Be cautious with while loops to avoid infinite loops\n",
    "    Use a while loop when the number of iterations is determined by a condition that may change dynamically during execution\n",
    "    \"\"\""
   ]
  },
  {
   "cell_type": "code",
   "execution_count": 35,
   "id": "f32a3725-9804-4df5-9021-831ebea8984b",
   "metadata": {},
   "outputs": [
    {
     "name": "stdout",
     "output_type": "stream",
     "text": [
      "P\n",
      "y\n",
      "t\n",
      "h\n",
      "o\n",
      "n\n"
     ]
    }
   ],
   "source": [
    "#Iterating Over a String\n",
    "message = \"Python\"\n",
    "for char in message:\n",
    "    print(char)\n"
   ]
  },
  {
   "cell_type": "code",
   "execution_count": 36,
   "id": "0cc60fbe-af08-4651-b0de-287dfe430044",
   "metadata": {},
   "outputs": [
    {
     "name": "stdout",
     "output_type": "stream",
     "text": [
      "0\n",
      "1\n",
      "2\n",
      "3\n",
      "4\n"
     ]
    }
   ],
   "source": [
    "#using a range\n",
    "for i in range(5):\n",
    "    print(i)  # Output: 0 1 2 3 4\n"
   ]
  },
  {
   "cell_type": "code",
   "execution_count": 37,
   "id": "e339f4ec-6c98-446a-8ff9-170315dfbdf2",
   "metadata": {},
   "outputs": [
    {
     "name": "stdout",
     "output_type": "stream",
     "text": [
      "Numpy\n",
      "Pandas\n",
      "Matplotlib\n"
     ]
    }
   ],
   "source": [
    "#Iterating Through a List\n",
    "Libraries= ['Numpy', 'Pandas', 'Matplotlib']\n",
    "for lib in Libraries:\n",
    "    print(lib)\n"
   ]
  },
  {
   "cell_type": "code",
   "execution_count": 38,
   "id": "4b5644c8-c96d-4e36-adb4-38f5a9dedabb",
   "metadata": {},
   "outputs": [
    {
     "name": "stdout",
     "output_type": "stream",
     "text": [
      "Count is: 0\n",
      "Count is: 1\n",
      "Count is: 2\n",
      "Count is: 3\n",
      "Count is: 4\n"
     ]
    }
   ],
   "source": [
    "#whie loop \n",
    "count = 0\n",
    "while count < 5:\n",
    "    print(\"Count is:\", count)\n",
    "    count += 1\n"
   ]
  },
  {
   "cell_type": "code",
   "execution_count": 39,
   "id": "af64baae-3a46-4df4-84f1-8e631051531e",
   "metadata": {},
   "outputs": [
    {
     "name": "stdout",
     "output_type": "stream",
     "text": [
      "Countdown: 5\n",
      "Countdown: 4\n",
      "Countdown: 3\n",
      "Countdown: 2\n",
      "Countdown: 1\n",
      "Lift off!\n"
     ]
    }
   ],
   "source": [
    "number = 5\n",
    "while number > 0:\n",
    "    print(\"Countdown:\", number)\n",
    "    number -= 1\n",
    "print(\"Lift off!\")\n"
   ]
  },
  {
   "cell_type": "code",
   "execution_count": 41,
   "id": "1c60afd8-5cf4-4f74-9263-1c0c9e72b4ec",
   "metadata": {},
   "outputs": [
    {
     "name": "stdin",
     "output_type": "stream",
     "text": [
      "Enter a number (0 to stop):  1\n",
      "Enter a number (0 to stop):  2\n",
      "Enter a number (0 to stop):  2\n",
      "Enter a number (0 to stop):  0\n"
     ]
    },
    {
     "name": "stdout",
     "output_type": "stream",
     "text": [
      "Total sum is: 5\n"
     ]
    }
   ],
   "source": [
    "total = 0\n",
    "number = 1\n",
    "while number != 0:\n",
    "    number = int(input(\"Enter a number (0 to stop): \"))\n",
    "    total += number\n",
    "\n",
    "print(\"Total sum is:\", total)\n"
   ]
  },
  {
   "cell_type": "code",
   "execution_count": 42,
   "id": "f9e294d1-cc2c-48f0-8070-f58e6c553c39",
   "metadata": {},
   "outputs": [
    {
     "data": {
      "text/plain": [
       "' \\nReusability: Functions allow you to reuse code without rewriting it. This is particularly useful when performing the same task multiple times.\\n\\nModularity: Breaking a program into smaller, manageable functions makes the code cleaner and easier to understand.\\n\\nReduced Complexity: Functions help simplify complex problems by breaking them down into smaller, more manageable pieces.\\n\\nTesting and Maintenance: Functions can be tested independently, making it easier to identify bugs and maintain the code\\n'"
      ]
     },
     "execution_count": 42,
     "metadata": {},
     "output_type": "execute_result"
    }
   ],
   "source": [
    "#why Functions \n",
    "\"\"\" \n",
    "Reusability: Functions allow you to reuse code without rewriting it. This is particularly useful when performing the same task multiple times.\n",
    "\n",
    "Modularity: Breaking a program into smaller, manageable functions makes the code cleaner and easier to understand.\n",
    "\n",
    "Reduced Complexity: Functions help simplify complex problems by breaking them down into smaller, more manageable pieces.\n",
    "\n",
    "Testing and Maintenance: Functions can be tested independently, making it easier to identify bugs and maintain the code\n",
    "\"\"\""
   ]
  },
  {
   "cell_type": "code",
   "execution_count": 43,
   "id": "fb9780ee-e665-4826-a5b4-fb540042fa8f",
   "metadata": {},
   "outputs": [
    {
     "data": {
      "text/plain": [
       "' What is a Function?\\nA function is a named block of code designed to perform a specific task. Functions can take inputs, known as parameters or arguments,\\nand can return outputs using the return statement. Functions help organize your code into logical sections, \\nmaking it easier to manage and understand.\\n'"
      ]
     },
     "execution_count": 43,
     "metadata": {},
     "output_type": "execute_result"
    }
   ],
   "source": [
    "\"\"\" What is a Function?\n",
    "A function is a named block of code designed to perform a specific task. Functions can take inputs, known as parameters or arguments,\n",
    "and can return outputs using the return statement. Functions help organize your code into logical sections, \n",
    "making it easier to manage and understand.\n",
    "\"\"\""
   ]
  },
  {
   "cell_type": "code",
   "execution_count": 44,
   "id": "d1562e0c-71d5-4849-8202-797cceb5f32c",
   "metadata": {},
   "outputs": [],
   "source": [
    "# basic syntax \n",
    "def function_name(parameters):\n",
    "    # block of code\n",
    "    return result  # optional return statement\n"
   ]
  },
  {
   "cell_type": "code",
   "execution_count": 48,
   "id": "fb49bad6-01a0-4784-9096-b00c044c8e03",
   "metadata": {},
   "outputs": [
    {
     "name": "stdin",
     "output_type": "stream",
     "text": [
      " 3\n",
      " 5\n"
     ]
    },
    {
     "name": "stdout",
     "output_type": "stream",
     "text": [
      "8\n"
     ]
    }
   ],
   "source": [
    "def add_numbers(a, b):\n",
    "    return a + b\n",
    "\n",
    "# Using the function\n",
    "a=int(input())\n",
    "b=int(input())\n",
    "result = add_numbers(a, b)\n",
    "print(result)  # Output: 8\n"
   ]
  },
  {
   "cell_type": "code",
   "execution_count": null,
   "id": "d1655c42-b9fc-4364-873c-acee99e3f485",
   "metadata": {},
   "outputs": [],
   "source": [
    "\"\"\"Parameters are the variables listed inside the parentheses in the function definition. They act as placeholders for the values that will be passed to the function.\n",
    "\n",
    "Arguments are the actual values you pass to the function when you call it.\"\"\""
   ]
  },
  {
   "cell_type": "code",
   "execution_count": 49,
   "id": "967223c4-3c3f-4429-a75a-57628f9ae7ce",
   "metadata": {},
   "outputs": [
    {
     "name": "stdout",
     "output_type": "stream",
     "text": [
      "Hello, Python!\n"
     ]
    }
   ],
   "source": [
    "def greet(name):\n",
    "    return f\"Hello, {name}!\"\n",
    "\n",
    "print(greet(\"Python\"))  # Output: Hello, Python!\n"
   ]
  },
  {
   "cell_type": "code",
   "execution_count": null,
   "id": "b9cabdb2-bdc3-4c60-94c6-0b172facf4a3",
   "metadata": {},
   "outputs": [],
   "source": [
    "\"\"\"Variable-length Parameters:\n",
    "Using *args for non-keyworded variable-length arguments and **kwargs for keyword arguments.\"\"\""
   ]
  },
  {
   "cell_type": "code",
   "execution_count": 57,
   "id": "fd235c3c-4adf-4a95-9d39-79db3c5f9567",
   "metadata": {},
   "outputs": [
    {
     "name": "stdout",
     "output_type": "stream",
     "text": [
      "Shreya\n",
      "golria\n",
      "Haley\n"
     ]
    }
   ],
   "source": [
    "def print_names(*args):\n",
    "    for name in args:\n",
    "        print(name)\n",
    "\n",
    "print_names(\"Shreya\", \"golria\", \"Haley\")  \n"
   ]
  },
  {
   "cell_type": "code",
   "execution_count": 58,
   "id": "b1623cab-eac9-46f6-9224-75712fe70a6b",
   "metadata": {},
   "outputs": [
    {
     "name": "stdout",
     "output_type": "stream",
     "text": [
      "name: Shreya\n",
      "age: 19\n",
      "city: VEGAS\n"
     ]
    }
   ],
   "source": [
    "def describe_person(**kwargs):\n",
    "    for key, value in kwargs.items():\n",
    "        print(f\"{key}: {value}\")\n",
    "\n",
    "describe_person(name=\"Shreya\", age=19, city=\"VEGAS\")  \n"
   ]
  },
  {
   "cell_type": "code",
   "execution_count": null,
   "id": "f0bf0cf9-dba7-4bcf-90da-7771228ff3c6",
   "metadata": {},
   "outputs": [],
   "source": []
  },
  {
   "cell_type": "code",
   "execution_count": null,
   "id": "838a6dec-7ab0-4415-8bae-639ef2308ce9",
   "metadata": {},
   "outputs": [],
   "source": []
  }
 ],
 "metadata": {
  "kernelspec": {
   "display_name": "Python 3 (ipykernel)",
   "language": "python",
   "name": "python3"
  },
  "language_info": {
   "codemirror_mode": {
    "name": "ipython",
    "version": 3
   },
   "file_extension": ".py",
   "mimetype": "text/x-python",
   "name": "python",
   "nbconvert_exporter": "python",
   "pygments_lexer": "ipython3",
   "version": "3.12.7"
  }
 },
 "nbformat": 4,
 "nbformat_minor": 5
}
